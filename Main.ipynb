{
 "cells": [
  {
   "cell_type": "markdown",
   "id": "d38dac91",
   "metadata": {},
   "source": [
    "# Group members\n",
    "Badil Mujovi (274632)\\\n",
    "Aubin Mercier (316260)\\\n",
    "Mehmet Furkan Dogan (370234)\\\n",
    "Andrea Grillo (371099)"
   ]
  },
  {
   "cell_type": "markdown",
   "id": "3de1c0b0",
   "metadata": {},
   "source": [
    "## Introduction"
   ]
  },
  {
   "cell_type": "markdown",
   "id": "1f666022",
   "metadata": {},
   "source": [
    "This project aims to combine vision, global and local navigation, and filtering to maneuver a Thymio robot in a predetermined environment.\n",
    "\n",
    "Our environment consist of a white floor delimited by ArUco markers in the 4 corners. There is an ArUco marker on the Thymio and the goal is an ArUco marker too. Static obstacles are black polygones printed on the map. A camera is placed on top of the environment, to build a map of the static obstacles and compute the optimal path towards the goal.\n",
    "\n",
    "The Thymio is placed at a random position, the camera tracks its position and orientation, and it has to reach the goal following the optimal path. The system is robust to 3D dynamic obstacles placed along the path, as well as camera covering for short periods of time and kidnapping, that is moving the robot to another place during its activity.\n",
    "\n",
    "Our implementation includes the following features:\n",
    "- Computer Vision for detecting obstacles and building the map\n",
    "- Computer Vision for the tracking of the pose of the Thymio\n",
    "- Global navigation computes the optimal path from the map using a visibility graph\n",
    "- Local navigation makes the Thymio follow the computed path as a list of waypoints\n",
    "- Obstacle avoidance by sensing the environment with proximity sensors\n",
    "- Extended Kalman Filter allows pose estimation when the camera is covered using the fusion of data from camera and odometry\n",
    "- Resilience to kidnapping by recomputing the global path when the camera detects that the position of the Thymio has changed\n",
    "- ...\n",
    "\n",
    "\n",
    "The main code of the system is implemented in this Jupyter noteboook. The submodules of the system have been implemented in Python classes, each one in a separate file. They are the following:\n",
    "- Computer Vision - vision_thymio.py\n",
    "- Global Navigation - global_navigation.py\n",
    "- Extended Kalman Filter - extended_kalman_filter.py\n",
    "- Local Navigation - local_navigation.py\n",
    "\n",
    "\n",
    "Some scripts for testing the subsystems have been written, and they are located under the 'test' directory.\n",
    "Moreover, for the estimation for the variance matrices for the Kalman Filter, measurements and subsequent data analysis in Matlab have been conducted. All the files related to this part can be found in the 'Sensor Noise Measurement' directory."
   ]
  },
  {
   "cell_type": "markdown",
   "id": "74b9d8a7",
   "metadata": {},
   "source": [
    "## 1. Computer Vision"
   ]
  },
  {
   "cell_type": "markdown",
   "metadata": {},
   "source": [
    "TODO\n",
    "\n",
    "I have found this picture, don't know if it makes sense to use it\n",
    "<div><img src = \"images\\detectAruco.png\" width = 500 height = 500></div>"
   ]
  },
  {
   "cell_type": "markdown",
   "id": "6a9778a2",
   "metadata": {},
   "source": [
    "## 2. Path Planning"
   ]
  },
  {
   "cell_type": "markdown",
   "id": "8f538b20",
   "metadata": {},
   "source": [
    "TODO"
   ]
  },
  {
   "cell_type": "markdown",
   "id": "2332fb1a",
   "metadata": {},
   "source": [
    "## 3. Filtering"
   ]
  },
  {
   "cell_type": "markdown",
   "id": "b61ba928",
   "metadata": {},
   "source": []
  },
  {
   "cell_type": "code",
   "execution_count": null,
   "id": "e06c2596",
   "metadata": {},
   "outputs": [],
   "source": []
  },
  {
   "cell_type": "markdown",
   "id": "58ab1daf",
   "metadata": {},
   "source": [
    "## 4. Local Navigation"
   ]
  },
  {
   "cell_type": "markdown",
   "id": "6f0b6436",
   "metadata": {},
   "source": [
    "The goal of the Local Navigation submodule is to make the Thymio follow the path computed by the Global Navigation part, while making the Thymio avoid dynamic obstacles that can be placed along the path.\n",
    "\n",
    "The path is given as a list of tuples (x,y) representing the waypoints of the path. The path is initialized using the `define_path` function. In this function, also the `waypoint_counter` variable is initialized. This variable keeps track of which waypoint we are aiming for at the moment.\n",
    "\n",
    "<div><b>Control routine</b></div>\n",
    "The function which is called at every loop iteration is `control`, whose role is to decide whether to apply the controller to follow the path or the local avoidance routine.\n",
    "The system starts in the `path_follow` modality, which is changed to `obstacle_avoidance` whenever the proximity sensor detect an obstacle. When no obstacle is detected anymore, the obstacle avoidance routine will be run for the following 5 loop cycles, to ensure that the obstacle is really been overcome and that the Thymio is far enough from it.\n",
    "\n",
    "<br><div><b>Obstacle avoidance routine</b></div>\n",
    "\n",
    "\n",
    "\n",
    "<br><div><b>Path follow routine</b></div>\n",
    "The function `path_follow` has the pose of the Thymio as the only parameter, as the path is defined as an attribute of the Local Navigation class.\n",
    "The idea is that the two variables to control are the linear and angular velocities, respectively $ v $ and $ \\omega $.\n",
    "\n",
    "The controller chosen is a simple proportional controller for the $ \\omega $, and a predefined fixed velocity for $ v $. \n",
    "\n",
    "The control law is therefore:\n",
    "$$ v = v_{fixed} $$\n",
    "$$ \\omega = K_p ( \\theta - \\gamma) $$\n",
    "where $ \\theta $ is the orientation of the Thymio and $ \\gamma $ is the angle of the vector connecting the Thymio to the waypoint. \n",
    "\n",
    "### TODO INSERT IMAGE\n",
    "\n",
    "\n",
    "\n",
    "The gain value $ k_p $ and the fixed velocity $ v_{fixed} have been tuned empiricaly by trial and error to obtain the best performance possible.\n",
    "\n",
    "<div><img src = \"images\\controller.jpg\" width = 500></div>\n",
    "\n"
   ]
  },
  {
   "cell_type": "markdown",
   "metadata": {},
   "source": []
  },
  {
   "cell_type": "markdown",
   "id": "ccd47866",
   "metadata": {},
   "source": []
  },
  {
   "cell_type": "code",
   "execution_count": null,
   "id": "61e3e529",
   "metadata": {},
   "outputs": [],
   "source": []
  },
  {
   "cell_type": "markdown",
   "id": "feab5a50",
   "metadata": {},
   "source": [
    "## Complete code"
   ]
  },
  {
   "cell_type": "code",
   "execution_count": null,
   "metadata": {},
   "outputs": [],
   "source": []
  },
  {
   "cell_type": "markdown",
   "id": "235537fe",
   "metadata": {},
   "source": [
    "## Conclusion"
   ]
  },
  {
   "cell_type": "markdown",
   "id": "19ad5e39",
   "metadata": {},
   "source": []
  },
  {
   "cell_type": "markdown",
   "id": "407d8a7a",
   "metadata": {},
   "source": [
    "# SCAFFOLDING"
   ]
  },
  {
   "cell_type": "markdown",
   "metadata": {},
   "source": [
    "### Installing dependencies"
   ]
  },
  {
   "cell_type": "code",
   "execution_count": 1,
   "id": "74ff1939-bd19-4ecf-b5bb-5adaf0b69126",
   "metadata": {},
   "outputs": [
    {
     "name": "stdout",
     "output_type": "stream",
     "text": [
      "^C\n"
     ]
    }
   ],
   "source": [
    "# Install a pip package in the current Jupyter kernel\n",
    "import sys\n",
    "!{sys.executable} -m pip install pyvisgraph\n",
    "!{sys.executable} -m pip install opencv-python\n",
    "!{sys.executable} -m pip install opencv-contrib-python\n",
    "!{sys.executable} -m pip install tqdm"
   ]
  },
  {
   "cell_type": "markdown",
   "metadata": {},
   "source": [
    "### Constant Definition, libraries and submodules import"
   ]
  },
  {
   "cell_type": "code",
   "execution_count": 1,
   "id": "50a2ab61",
   "metadata": {
    "scrolled": true
   },
   "outputs": [
    {
     "name": "stdout",
     "output_type": "stream",
     "text": [
      "Constants defined\n"
     ]
    },
    {
     "name": "stderr",
     "output_type": "stream",
     "text": [
      "c:\\Users\\andrea\\Dropbox (Politecnico Di Torino Studenti)\\Tirocinio Andrea Grillo\\08 FIRMWARE\\sensoriPaquitop\\mobile-robotics-project\\extended_kalman_filter.py:5: RuntimeWarning: invalid value encountered in multiply\n",
      "  CAMERA_COVERED_COV = np.eye(3) * np.inf\n"
     ]
    },
    {
     "name": "stdout",
     "output_type": "stream",
     "text": [
      "Import executed successfully\n",
      "Successfully connected to Thymio.\n"
     ]
    }
   ],
   "source": [
    "#  - - - CONSTANT DEFINITION - - -\n",
    "\n",
    "USE_THYMIO = True\n",
    "\n",
    "# sampling time\n",
    "DT = .15\n",
    "\n",
    "print(\"Constants defined\")\n",
    "\n",
    "#  - - - IMPORTS - - - \n",
    "import tdmclient.notebook\n",
    "import time\n",
    "import numpy as np\n",
    "\n",
    "import local_navigation\n",
    "import extended_kalman_filter\n",
    "#from vision_thymio import *\n",
    "import vision_thymio\n",
    "\n",
    "print(\"Import executed successfully\")\n",
    "\n",
    "if USE_THYMIO:\n",
    "    await tdmclient.notebook.start()\n",
    "    print(\"Successfully connected to Thymio.\")"
   ]
  },
  {
   "cell_type": "code",
   "execution_count": 21,
   "metadata": {},
   "outputs": [],
   "source": [
    "await tdmclient.notebook.stop()\n"
   ]
  },
  {
   "cell_type": "code",
   "execution_count": 28,
   "id": "bc94d362",
   "metadata": {},
   "outputs": [
    {
     "data": {
      "text/plain": [
       "<module 'local_navigation' from 'c:\\\\Users\\\\andrea\\\\Dropbox (Politecnico Di Torino Studenti)\\\\Tirocinio Andrea Grillo\\\\08 FIRMWARE\\\\sensoriPaquitop\\\\mobile-robotics-project\\\\local_navigation.py'>"
      ]
     },
     "execution_count": 28,
     "metadata": {},
     "output_type": "execute_result"
    }
   ],
   "source": [
    "# - - - RELOADING OF IMPORTED MODULES - - -\n",
    "import importlib\n",
    "importlib.reload(local_navigation)\n",
    "#importlib.reload(vision_thymio)\n",
    "#importlib.reload(extended_kalman_filter)"
   ]
  },
  {
   "cell_type": "markdown",
   "metadata": {},
   "source": [
    "### Classes instantiation, helper functions to interact with the Thymio"
   ]
  },
  {
   "cell_type": "code",
   "execution_count": 2,
   "id": "13c8344b",
   "metadata": {},
   "outputs": [
    {
     "name": "stdout",
     "output_type": "stream",
     "text": [
      "Init Vision Thymio\n",
      "Init Local Navigation\n",
      "Init Extended Kalman Filter\n",
      "Classes defined correctly.\n",
      "Thymio functions defined correctly.\n"
     ]
    }
   ],
   "source": [
    "# ISTANTIATE OBJECTS OF CLASSES\n",
    "\n",
    "vis = vision_thymio.Vision_Thymio()\n",
    "local_nav = local_navigation.Local_Navigation()\n",
    "ekf = extended_kalman_filter.ExtendedKalmanFilter()\n",
    "\n",
    "print(\"Classes defined correctly.\")\n",
    "\n",
    "\n",
    "# FUNCTION FOR THYMIO INTERACTION DEFINITION\n",
    "\n",
    "@tdmclient.notebook.sync_var\n",
    "def motor_go(left,right):\n",
    "    global motor_left_target, motor_right_target\n",
    "    motor_left_target = left\n",
    "    motor_right_target = right\n",
    "    \n",
    "@tdmclient.notebook.sync_var\n",
    "def motor_stop():\n",
    "    global motor_left_target,motor_right_target\n",
    "    motor_left_target = 0\n",
    "    motor_right_target = 0\n",
    "    \n",
    "@tdmclient.notebook.sync_var\n",
    "def sensor_data():\n",
    "    global prox_horizontal\n",
    "    return prox_horizontal.copy()\n",
    "\n",
    "@tdmclient.notebook.sync_var\n",
    "def odometry():\n",
    "    global motor_left_speed, motor_right_speed\n",
    "    return (motor_left_speed, motor_right_speed)\n",
    "\n",
    "print(\"Thymio functions defined correctly.\")"
   ]
  },
  {
   "cell_type": "code",
   "execution_count": 29,
   "metadata": {},
   "outputs": [
    {
     "name": "stdout",
     "output_type": "stream",
     "text": [
      "Init Local Navigation\n"
     ]
    }
   ],
   "source": [
    "local_nav = local_navigation.Local_Navigation()\n"
   ]
  },
  {
   "cell_type": "code",
   "execution_count": 3,
   "id": "c365e1f4",
   "metadata": {},
   "outputs": [],
   "source": [
    "# TEST THAT THE THYMIO IS LISTENING TO US\n",
    "motor_go(500,500)\n",
    "time.sleep(1)\n",
    "motor_stop()"
   ]
  },
  {
   "cell_type": "markdown",
   "metadata": {},
   "source": [
    "### Perspective and scaling of the image, static obstacle detection"
   ]
  },
  {
   "cell_type": "code",
   "execution_count": 4,
   "id": "b03789e5",
   "metadata": {},
   "outputs": [
    {
     "name": "stdout",
     "output_type": "stream",
     "text": [
      "[]\n"
     ]
    }
   ],
   "source": [
    "# init of the perspective and scaling of the image\n",
    "vis.getPerspectiveAndScaling()\n",
    "\n",
    "# get obstacles on the map\n",
    "img = vis.getCorrectedImage()\n",
    "staticObstacleList = vis.getVisibilityGraph(img).copy()\n",
    "print(staticObstacleList)\n"
   ]
  },
  {
   "cell_type": "markdown",
   "metadata": {},
   "source": [
    "### Detection of the Thymio and the goal, optimal path computation"
   ]
  },
  {
   "cell_type": "code",
   "execution_count": 39,
   "id": "f91f5b49",
   "metadata": {},
   "outputs": [
    {
     "name": "stdout",
     "output_type": "stream",
     "text": [
      "Unchecked Raise(exc=Call(func=Name(id='Exception', ctx=Load()), args=[Constant(value='cannot find thymio or goal')], keywords=[]))\n",
      "Found thymio and goal at iteration 1\n",
      "Position of the thymio:  371.0 509.0 2.0701430484750265\n",
      "Position of the goal: [377. 622.]\n",
      "Computed optimal path:  [(14.37625, 19.72375), (14.60875, 24.1025)]\n"
     ]
    }
   ],
   "source": [
    "try:\n",
    "    foundGoal = foundThymio = False\n",
    "    goalPos = []\n",
    "    thymioPos = []\n",
    "\n",
    "    # try ten times to get thymio and goal position on the map, if not print error and exit\n",
    "    for i in range(10):\n",
    "        img = vis.getCorrectedImage()\n",
    "        ids,corners = vis.detectArucoMarkers(img)\n",
    "\n",
    "        if not foundGoal:\n",
    "            foundGoal, goalPos = vis.getGoalPosition(ids, corners)\n",
    "        if not foundThymio:\n",
    "            foundThymio, thymioPos = vis.getThymioPos(ids,corners) \n",
    "\n",
    "        if foundGoal and foundThymio:\n",
    "            break\n",
    "        \n",
    "        time.sleep(0.1)\n",
    "    if not (foundGoal and foundThymio):\n",
    "        raise Exception(\"cannot find thymio or goal\")\n",
    "\n",
    "    print(f\"Found thymio and goal at iteration {i}\")\n",
    "    print(f\"Position of the thymio: \", thymioPos[0][0]/vis.scalingFactor, thymioPos[0][1]/vis.scalingFactor, thymioPos[1])\n",
    "    print(f\"Position of the goal: {goalPos/vis.scalingFactor}\")\n",
    "\n",
    "\n",
    "    path = vis.getOptimalPath(thymioPos[0], staticObstacleList.copy(), goalPos)\n",
    "\n",
    "    # path reshaping to be used by the local navigation module\n",
    "    path = list(map(tuple, path.reshape((path.shape[0], 2))))\n",
    "    \n",
    "    print(\"Computed optimal path: \", path)\n",
    "\n",
    "    local_nav.define_path(path)\n",
    "\n",
    "    #EKF state initialization\n",
    "    initial_state = np.array([thymioPos[0][0],thymioPos[0][1], thymioPos[1], 0, 0])  # [x, y, theta, v, w]\n",
    "    ekf.state_initialization(initial_state)\n",
    "\n",
    "\n",
    "except Exception as e:\n",
    "    print(\"ERROR - cannot find goal or thymio\")\n",
    "    print(\"foundThymio\", foundThymio)\n",
    "    print(\"foundGoal\", foundGoal)\n",
    "\n",
    "motor_stop()\n"
   ]
  },
  {
   "cell_type": "code",
   "execution_count": 40,
   "id": "949f7825",
   "metadata": {},
   "outputs": [
    {
     "name": "stdout",
     "output_type": "stream",
     "text": [
      "44.13625 13.64 2.687290566896477\n",
      "------------------------------------- [0, 1808, 0, 0, 0, 0, 0]\n",
      "44.13625 13.64 2.6903283125068738\n",
      "------------------------------------- [0, 1802, 0, 0, 0, 0, 0]\n",
      "44.058749999999996 13.678749999999999 2.7062393784374907\n",
      "------------------------------------- [0, 1802, 0, 0, 0, 0, 0]\n",
      "43.43875 13.91125 2.773922541896684\n",
      "------------------------------------- [0, 1996, 0, 0, 0, 0, 0]\n",
      "42.74125 14.14375 2.8555412118724752\n",
      "------------------------------------- [1038, 2200, 0, 0, 0, 0, 0]\n",
      "42.005 14.29875 2.9373384907234126\n",
      "------------------------------------- [1038, 2200, 0, 0, 0, 0, 0]\n",
      "41.26875 14.45375 3.0426262481742046\n",
      "------------------------------------- [1038, 2200, 0, 0, 0, 0, 0]\n",
      "40.61 14.45375 -3.120319267565732\n",
      "------------------------------------- [1038, 2200, 0, 0, 0, 0, 0]\n",
      "39.99 14.3375 -2.999695598985629\n",
      "------------------------------------- [1038, 2200, 0, 0, 0, 0, 0]\n",
      "39.33125 14.22125 -2.889705637499181\n",
      "------------------------------------- [0, 0, 0, 0, 0, 0, 0]\n",
      "38.78875 13.98875 -2.7517656409351514\n",
      "------------------------------------- [0, 0, 0, 0, 0, 0, 0]\n",
      "38.01375 13.60125 -2.639378967287617\n",
      "------------------------------------- [0, 0, 0, 0, 0, 0, 0]\n",
      "37.51 13.33 -2.639378967287617\n",
      "------------------------------------- [0, 0, 0, 0, 0, 0, 0]\n",
      "36.89 12.9425 -2.62333701105804\n",
      "------------------------------------- [0, 0, 0, 0, 0, 0, 0]\n",
      "36.3475 12.6325 -2.6268712892275814\n",
      "------------------------------------- [0, 0, 0, 0, 0, 0, 0]\n",
      "My pose is 36.3475 12.6325 -150.5086381968298\n",
      "My objective is (14.37625, 19.72375)\n",
      "Distance is 23.087261706945668\n",
      "the angle i have to follow 162.11244642795575\n",
      "AAAA - DELTA ANGLE DEG: 47.37891537521443\n",
      "35.68875 12.245 -2.6491068877178683\n",
      "------------------------------------- [0, 0, 0, 0, 0, 0, 0]\n",
      "My pose is 35.68875 12.245 -151.7826441452707\n",
      "My objective is (14.37625, 19.72375)\n",
      "Distance is 22.58659686213264\n",
      "the angle i have to follow 160.66356420345454\n",
      "AAAA - DELTA ANGLE DEG: 47.553791651274764\n",
      "34.99125 11.8575 -2.6584669887724597\n",
      "------------------------------------- [0, 0, 0, 0, 0, 0, 0]\n",
      "My pose is 34.99125 11.8575 -152.31893843151477\n",
      "My objective is (14.37625, 19.72375)\n",
      "Distance is 22.064816202780843\n",
      "the angle i have to follow 159.11419853930698\n",
      "AAAA - DELTA ANGLE DEG: 48.56686302917825\n",
      "33.90625 11.27625 -2.729182211992406\n",
      "------------------------------------- [0, 0, 0, 0, 0, 0, 0]\n",
      "My pose is 33.90625 11.27625 -156.3706222693432\n",
      "My objective is (14.37625, 19.72375)\n",
      "Distance is 21.278654944568277\n",
      "the angle i have to follow 156.60960223702574\n",
      "AAAA - DELTA ANGLE DEG: 47.01977549363107\n",
      "32.7825 10.85 -2.8175537736679304\n",
      "------------------------------------- [0, 0, 0, 0, 0, 0, 0]\n",
      "My pose is 32.7825 10.85 -161.43393978233078\n",
      "My objective is (14.37625, 19.72375)\n",
      "Distance is 20.433635949703127\n",
      "the angle i have to follow 154.26103937214762\n",
      "AAAA - DELTA ANGLE DEG: 44.3050208455216\n",
      "31.58125 10.4625 -2.9018495447193366\n",
      "------------------------------------- [0, 0, 0, 0, 0, 0, 0]\n",
      "My pose is 31.58125 10.4625 -166.2637316943774\n",
      "My objective is (14.37625, 19.72375)\n",
      "Distance is 19.539262436502046\n",
      "the angle i have to follow 151.7069401076227\n",
      "AAAA - DELTA ANGLE DEG: 42.02932819799992\n",
      "30.535 10.26875 -2.9669204545815537\n",
      "------------------------------------- [0, 0, 0, 0, 0, 0, 0]\n",
      "My pose is 30.535 10.26875 -169.9920201985587\n",
      "My objective is (14.37625, 19.72375)\n",
      "Distance is 18.72170469168072\n",
      "the angle i have to follow 149.66673600295306\n",
      "AAAA - DELTA ANGLE DEG: 40.34124379848822\n",
      "29.294999999999998 10.075 -3.039756374435775\n",
      "------------------------------------- [0, 0, 0, 0, 0, 0, 0]\n",
      "My pose is 29.294999999999998 10.075 -174.1652110031587\n",
      "My objective is (14.37625, 19.72375)\n",
      "Distance is 17.767033464396917\n",
      "the angle i have to follow 147.1070999849455\n",
      "AAAA - DELTA ANGLE DEG: 38.72768901189579\n",
      "28.09375 9.9975 -3.1128236147722\n",
      "------------------------------------- [0, 0, 0, 0, 0, 0, 0]\n",
      "My pose is 28.09375 9.9975 -178.3516554951039\n",
      "My objective is (14.37625, 19.72375)\n",
      "Distance is 16.815758838437826\n",
      "the angle i have to follow 144.66185130597887\n",
      "AAAA - DELTA ANGLE DEG: 36.98649319891723\n",
      "26.85375 9.9975 3.091275449128315\n",
      "------------------------------------- [0, 0, 0, 0, 0, 0, 0]\n",
      "My pose is 26.85375 9.9975 177.11703654746046\n",
      "My objective is (14.37625, 19.72375)\n",
      "Distance is 15.820491310717882\n",
      "the angle i have to follow 142.06347418190003\n",
      "AAAA - DELTA ANGLE DEG: 35.053562365560424\n",
      "25.76875 10.075 3.0404892818534948\n",
      "------------------------------------- [0, 0, 0, 0, 0, 0, 0]\n",
      "My pose is 25.76875 10.075 174.20720350496785\n",
      "My objective is (14.37625, 19.72375)\n",
      "Distance is 14.929415019099041\n",
      "the angle i have to follow 139.73744334801012\n",
      "AAAA - DELTA ANGLE DEG: 34.46976015695773\n",
      "24.5675 10.26875 2.9669204545815537\n",
      "------------------------------------- [0, 0, 0, 0, 0, 0, 0]\n",
      "My pose is 24.5675 10.26875 169.9920201985587\n",
      "My objective is (14.37625, 19.72375)\n",
      "Distance is 13.90174814771509\n",
      "the angle i have to follow 137.14617479286255\n",
      "AAAA - DELTA ANGLE DEG: 32.84584540569614\n",
      "23.36625 10.50125 2.9001289144761677\n",
      "------------------------------------- [0, 0, 0, 0, 0, 0, 0]\n",
      "My pose is 23.36625 10.50125 166.16514684334126\n",
      "My objective is (14.37625, 19.72375)\n",
      "Distance is 12.879231586162273\n",
      "the angle i have to follow 134.26860424690244\n",
      "AAAA - DELTA ANGLE DEG: 31.89654259643882\n",
      "22.165 10.81125 2.8244292229825483\n",
      "------------------------------------- [0, 0, 0, 0, 0, 0, 0]\n",
      "My pose is 22.165 10.81125 161.8278740103145\n",
      "My objective is (14.37625, 19.72375)\n",
      "Distance is 11.836269801440823\n",
      "the angle i have to follow 131.15063365214812\n",
      "AAAA - DELTA ANGLE DEG: 30.677240358166387\n",
      "21.19625 11.16 2.785372998193643\n",
      "------------------------------------- [0, 0, 0, 0, 0, 0, 0]\n",
      "My pose is 21.19625 11.16 159.59011716619602\n",
      "My objective is (14.37625, 19.72375)\n",
      "Distance is 10.947612253934643\n",
      "the angle i have to follow 128.53311795859995\n",
      "AAAA - DELTA ANGLE DEG: 31.05699920759608\n",
      "20.0725 11.625 2.716760490670451\n",
      "------------------------------------- [0, 0, 0, 0, 0, 0, 0]\n",
      "My pose is 20.0725 11.625 155.65891006330747\n",
      "My objective is (14.37625, 19.72375)\n",
      "Distance is 9.901364331494928\n",
      "the angle i have to follow 125.1206094204909\n",
      "AAAA - DELTA ANGLE DEG: 30.53830064281658\n",
      "19.1425 12.05125 2.6746983027506106\n",
      "------------------------------------- [0, 0, 0, 0, 0, 0, 0]\n",
      "My pose is 19.1425 12.05125 153.24892421841452\n",
      "My objective is (14.37625, 19.72375)\n",
      "Distance is 9.032408057240326\n",
      "the angle i have to follow 121.84905131905529\n",
      "AAAA - DELTA ANGLE DEG: 31.399872899359224\n",
      "17.86375 12.709999999999999 2.6197583737753827\n",
      "------------------------------------- [0, 0, 0, 0, 0, 0, 0]\n",
      "My pose is 17.86375 12.709999999999999 150.10109816138544\n",
      "My objective is (14.37625, 19.72375)\n",
      "Distance is 7.832965294988865\n",
      "the angle i have to follow 116.43829080975031\n",
      "AAAA - DELTA ANGLE DEG: 33.66280735163514\n",
      "17.01125 13.29125 2.575411982363434\n",
      "------------------------------------- [0, 0, 0, 0, 0, 0, 0]\n",
      "My pose is 17.01125 13.29125 147.56023709684558\n",
      "My objective is (14.37625, 19.72375)\n",
      "Distance is 6.951279108912257\n",
      "the angle i have to follow 112.27589784825896\n",
      "AAAA - DELTA ANGLE DEG: 35.284339248586605\n",
      "15.965 13.98875 2.50961841177119\n",
      "------------------------------------- [0, 0, 0, 0, 0, 0, 0]\n",
      "My pose is 15.965 13.98875 143.79054318281396\n",
      "My objective is (14.37625, 19.72375)\n",
      "Distance is 5.950995846284888\n",
      "the angle i have to follow 105.48416971391568\n",
      "AAAA - DELTA ANGLE DEG: 38.3063734688983\n",
      "15.1125 14.647499999999999 2.4634733458407476\n",
      "------------------------------------- [0, 0, 0, 0, 0, 0, 0]\n",
      "My pose is 15.1125 14.647499999999999 141.14662565964667\n",
      "My objective is (14.37625, 19.72375)\n",
      "Distance is 5.129364300281273\n",
      "the angle i have to follow 98.2525290471361\n",
      "AAAA - DELTA ANGLE DEG: 42.894096612510566\n",
      "14.1825 15.46125 2.3974082528506653\n",
      "------------------------------------- [0, 0, 0, 0, 0, 0, 0]\n",
      "My pose is 14.1825 15.46125 137.36137465817563\n",
      "My objective is (14.37625, 19.72375)\n",
      "Distance is 4.26690113694939\n",
      "the angle i have to follow 87.39743779750019\n",
      "reached objective number 0\n",
      "My pose is 14.1825 15.46125 137.36137465817563\n",
      "My objective is (14.60875, 24.1025)\n",
      "Distance is 8.651756505184366\n",
      "the angle i have to follow 87.17603971075764\n",
      "AAAA - DELTA ANGLE DEG: 50.185334947418\n",
      "13.29125 16.3525 2.320676438528605\n",
      "------------------------------------- [0, 0, 0, 0, 0, 0, 0]\n",
      "My pose is 13.29125 16.3525 132.96496554314012\n",
      "My objective is (14.60875, 24.1025)\n",
      "Distance is 7.861189874948957\n",
      "the angle i have to follow 80.35195468390184\n",
      "AAAA - DELTA ANGLE DEG: 52.61301085923827\n",
      "12.4775 17.24375 2.2229677385519664\n",
      "------------------------------------- [0, 0, 0, 0, 0, 0, 0]\n",
      "My pose is 12.4775 17.24375 127.3666694127687\n",
      "My objective is (14.60875, 24.1025)\n",
      "Distance is 7.182247428556051\n",
      "the angle i have to follow 72.73817962838723\n",
      "AAAA - DELTA ANGLE DEG: 54.628489784381486\n",
      "11.78 18.25125 2.1489567284709525\n",
      "------------------------------------- [0, 0, 0, 0, 0, 0, 0]\n",
      "My pose is 11.78 18.25125 123.12615089762642\n",
      "My objective is (14.60875, 24.1025)\n",
      "Distance is 6.499150184831861\n",
      "the angle i have to follow 64.198847283852\n",
      "AAAA - DELTA ANGLE DEG: 58.92730361377443\n",
      "11.19875 19.2975 2.050571569639339\n",
      "------------------------------------- [0, 0, 0, 0, 0, 0, 0]\n",
      "My pose is 11.19875 19.2975 117.4890965298507\n",
      "My objective is (14.60875, 24.1025)\n",
      "Distance is 5.892039120711946\n",
      "the angle i have to follow 54.63753811293094\n",
      "AAAA - DELTA ANGLE DEG: 62.85155841691977\n",
      "10.73375 20.2275 1.970017096370149\n",
      "------------------------------------- [0, 0, 0, 0, 0, 0, 0]\n",
      "My pose is 10.73375 20.2275 112.87366519062671\n",
      "My objective is (14.60875, 24.1025)\n",
      "Distance is 5.480077554195743\n",
      "the angle i have to follow 45.0\n",
      "AAAA - DELTA ANGLE DEG: 67.8736651906267\n",
      "10.3075 21.39 1.8677212827658607\n",
      "------------------------------------- [0, 0, 0, 0, 0, 0, 0]\n",
      "My pose is 10.3075 21.39 107.01254680924403\n",
      "My objective is (14.60875, 24.1025)\n",
      "Distance is 5.085116302750607\n",
      "the angle i have to follow 32.236786552130205\n",
      "AAAA - DELTA ANGLE DEG: 74.77576025711383\n",
      "9.9975 22.59125 1.757019167206038\n",
      "------------------------------------- [0, 0, 0, 0, 0, 0, 0]\n",
      "My pose is 9.9975 22.59125 100.66978280449668\n",
      "My objective is (14.60875, 24.1025)\n",
      "Distance is 4.852576957143493\n",
      "the angle i have to follow 18.145578659481416\n",
      "reached objective number 1\n",
      "finished!\n",
      "FINISHED\n"
     ]
    },
    {
     "ename": "",
     "evalue": "",
     "output_type": "error",
     "traceback": [
      "\u001b[1;31mThe Kernel crashed while executing code in the the current cell or a previous cell. Please review the code in the cell(s) to identify a possible cause of the failure. Click <a href='https://aka.ms/vscodeJupyterKernelCrash'>here</a> for more info. View Jupyter <a href='command:jupyter.viewOutput'>log</a> for further details."
     ]
    }
   ],
   "source": [
    "finished = False\n",
    "while not finished:\n",
    "    # Getting the position from the camera\n",
    "    img = vis.getCorrectedImage()\n",
    "    ids,corners = vis.detectArucoMarkers(img)\n",
    "    foundThymio, thymioPos = vis.getThymioPos(ids,corners) \n",
    "    \n",
    "    if foundThymio:\n",
    "        ekf.set_mode(extended_kalman_filter.NORMAL)\n",
    "\n",
    "    else:\n",
    "        print(\"- - - CAMERA COVERED - - -\")\n",
    "        ekf.set_mode(extended_kalman_filter.KIDNAPPED)\n",
    "        continue\n",
    "\n",
    "        # If there is no camera input\n",
    "\n",
    "\n",
    "    x,y, theta = thymioPos[0][0], thymioPos[0][1], thymioPos[1] # Position and orientation from the camera\n",
    "    \n",
    "    #control_input = np.array([v,w])\n",
    "    #measurement = np.array([x, y, theta, v, w])\n",
    "\n",
    "    # Perform prediction and update steps\n",
    "    #ekf.predict(control_input, DT)\n",
    "    #ekf.update(measurement)\n",
    "\n",
    "    #x, y, theta, v, w = ekf.state\n",
    "    print(x,y,theta)\n",
    "    sensors = sensor_data()\n",
    "\n",
    "    print(\"-------------------------------------\", sensors)\n",
    "    \n",
    "    (wl,wr),finished = local_nav.control((x,y,theta), sensor_data())\n",
    "\n",
    "    motor_go(int(wl),int(wr))\n",
    "\n",
    "    if abs(wl) > 4000 or abs(wr) > 4000:\n",
    "        print(f\"SATURATED\")\n",
    "\n",
    "    time.sleep(DT)\n",
    "motor_stop()"
   ]
  },
  {
   "cell_type": "code",
   "execution_count": null,
   "id": "400c5e01-db56-44ac-aba7-18461959b728",
   "metadata": {},
   "outputs": [],
   "source": [
    "'''\n",
    "get ınıtıal state from camera\n",
    "get control ınput from ınıtıal state\n",
    "\n",
    "for loop\n",
    " - get posıtıon from camera\n",
    " \n",
    " - update kalman fılter wıth data from camera\n",
    "\n",
    " - get posıtıon from kalman fılter\n",
    "\n",
    " - get control ınput from local navıgatıon controller\n",
    "\n",
    " - repeat\n",
    "\n",
    "'''"
   ]
  },
  {
   "cell_type": "code",
   "execution_count": 27,
   "id": "2f221164",
   "metadata": {},
   "outputs": [],
   "source": [
    "motor_stop()"
   ]
  }
 ],
 "metadata": {
  "kernelspec": {
   "display_name": "Python 3 (ipykernel)",
   "language": "python",
   "name": "python3"
  },
  "language_info": {
   "codemirror_mode": {
    "name": "ipython",
    "version": 3
   },
   "file_extension": ".py",
   "mimetype": "text/x-python",
   "name": "python",
   "nbconvert_exporter": "python",
   "pygments_lexer": "ipython3",
   "version": "3.11.5"
  }
 },
 "nbformat": 4,
 "nbformat_minor": 5
}

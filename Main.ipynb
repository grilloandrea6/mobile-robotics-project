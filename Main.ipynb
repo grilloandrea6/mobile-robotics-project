{
 "cells": [
  {
   "cell_type": "markdown",
   "id": "07b455f7",
   "metadata": {},
   "source": [
    "<h1>Basics of Mobile Robotics project</h1>\n"
   ]
  },
  {
   "cell_type": "code",
   "execution_count": 1,
   "id": "3049886b",
   "metadata": {
    "scrolled": true
   },
   "outputs": [
    {
     "name": "stdout",
     "output_type": "stream",
     "text": [
      "Hello\n"
     ]
    }
   ],
   "source": [
    "USE_THYMIO = False\n",
    "\n",
    "import tdmclient.notebook\n",
    "if USE_THYMIO:\n",
    "    await tdmclient.notebook.start()\n",
    "from global_navigation import *\n",
    "\n",
    "print(\"Hello\")\n"
   ]
  },
  {
   "cell_type": "code",
   "execution_count": null,
   "id": "9a36a2e7",
   "metadata": {},
   "outputs": [],
   "source": [
    "@tdmclient.notebook.sync_var\n",
    "def motor_go(left,right):\n",
    "    global motor_left_target, motor_right_target\n",
    "    motor_left_target = [left]\n",
    "    motor_right_target = [right]\n",
    "    \n",
    "@tdmclient.notebook.sync_var\n",
    "def motor_stop():\n",
    "    global motor_left_target,motor_right_target\n",
    "    motor_left_target = 0\n",
    "    motor_right_target = 0\n",
    "    \n",
    "@tdmclient.notebook.sync_var\n",
    "def print_prox_value():\n",
    "    return prox_horizontal[]"
   ]
  },
  {
   "cell_type": "code",
   "execution_count": 3,
   "id": "676ee59a",
   "metadata": {},
   "outputs": [
    {
     "name": "stdout",
     "output_type": "stream",
     "text": [
      "eddai\n",
      "MAIN FSM -> computer vision\n",
      "MAIN FSM -> path planning\n",
      "We found the following best path with a value of 12.727922061357855.\n",
      "(1, 2) -> (3, 4) -> (10, 11)\n",
      "MAIN FSM -> terminated\n"
     ]
    }
   ],
   "source": [
    "state = 1\n",
    "'''\n",
    "     States of the global FSM (finite state machine)\n",
    "     \n",
    "     1 -> computer vision and global path planning\n",
    "     2 -> path following\n",
    "     3 -> obstacle avoidance\n",
    "     4 -> target reached\n",
    "'''\n",
    "print(\"eddai\")\n",
    "\n",
    "while True:\n",
    "    if state == 1:\n",
    "        print(\"MAIN FSM -> computer vision\")\n",
    "        # ToDo\n",
    "        \n",
    "        nodes = [(1,2),(3,4),(5,6),(10,11)]\n",
    "\n",
    "        global_nav = Global_Navigation(nodes)\n",
    "\n",
    "        global_nav.add_edge((1,2),(3,4))\n",
    "        global_nav.add_edge((1,2),(5,6))\n",
    "        global_nav.add_edge((3,4),(10,11))\n",
    "        global_nav.add_edge((10,11),(5,6))\n",
    "\n",
    "\n",
    "        start_node = (1,2)\n",
    "        target_node= (10,11)\n",
    "\n",
    "        \n",
    "        # next state -> path planning\n",
    "        state = 2\n",
    "        \n",
    "    elif state == 2:\n",
    "        print(\"MAIN FSM -> path planning\")\n",
    "        path = global_nav.path_planning(start_node,target_node)\n",
    "        \n",
    "        # next state -> path following\n",
    "        state = 3\n",
    "    elif state == 3:\n",
    "        \n",
    "        \n",
    "    elif state == 4:\n",
    "        print(\"MAIN FSM -> terminated\")\n",
    "        break\n"
   ]
  },
  {
   "cell_type": "code",
   "execution_count": null,
   "id": "a078df39",
   "metadata": {},
   "outputs": [],
   "source": []
  },
  {
   "cell_type": "code",
   "execution_count": null,
   "id": "314d5759",
   "metadata": {},
   "outputs": [],
   "source": []
  }
 ],
 "metadata": {
  "kernelspec": {
   "display_name": "Python 3 (ipykernel)",
   "language": "python",
   "name": "python3"
  },
  "language_info": {
   "codemirror_mode": {
    "name": "ipython",
    "version": 3
   },
   "file_extension": ".py",
   "mimetype": "text/x-python",
   "name": "python",
   "nbconvert_exporter": "python",
   "pygments_lexer": "ipython3",
   "version": "3.11.2"
  }
 },
 "nbformat": 4,
 "nbformat_minor": 5
}

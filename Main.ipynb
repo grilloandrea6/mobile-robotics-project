{
 "cells": [
  {
   "cell_type": "markdown",
   "id": "bd0647e0",
   "metadata": {},
   "source": [
    "<h1>Basics of Mobile Robotics project</h1>\n"
   ]
  },
  {
   "cell_type": "code",
   "execution_count": 18,
   "id": "50a2ab61",
   "metadata": {
    "scrolled": true
   },
   "outputs": [
    {
     "name": "stdout",
     "output_type": "stream",
     "text": [
      "Import executed successfully\n"
     ]
    }
   ],
   "source": [
    "# IMPORTS\n",
    "\n",
    "USE_THYMIO = False\n",
    "\n",
    "import tdmclient.notebook\n",
    "import time\n",
    "\n",
    "if USE_THYMIO:\n",
    "    await tdmclient.notebook.start()\n",
    "from global_navigation import *\n",
    "from local_navigation import *\n",
    "\n",
    "print(\"Import executed successfully\")\n"
   ]
  },
  {
   "cell_type": "code",
   "execution_count": 23,
   "id": "0a248ab5",
   "metadata": {},
   "outputs": [],
   "source": [
    "# CONSTANT DEFINITION\n",
    "\n",
    "# sampling time\n",
    "DT = .2\n"
   ]
  },
  {
   "cell_type": "code",
   "execution_count": 22,
   "id": "13c8344b",
   "metadata": {},
   "outputs": [
    {
     "name": "stdout",
     "output_type": "stream",
     "text": [
      "Thymio functions defined correctly.\n"
     ]
    }
   ],
   "source": [
    "# FUNCTION FOR THYMIO INTERACTION DEFINITION\n",
    "\n",
    "@tdmclient.notebook.sync_var\n",
    "def motor_go(left,right):\n",
    "    global motor_left_target, motor_right_target\n",
    "    motor_left_target = [left]\n",
    "    motor_right_target = [right]\n",
    "    \n",
    "@tdmclient.notebook.sync_var\n",
    "def motor_stop():\n",
    "    global motor_left_target,motor_right_target\n",
    "    motor_left_target = 0\n",
    "    motor_right_target = 0\n",
    "    \n",
    "@tdmclient.notebook.sync_var\n",
    "def print_prox_value():\n",
    "    return prox_horizontal\n",
    "\n",
    "print(\"Thymio functions defined correctly.\")"
   ]
  },
  {
   "cell_type": "code",
   "execution_count": 29,
   "id": "b03789e5",
   "metadata": {},
   "outputs": [
    {
     "name": "stdout",
     "output_type": "stream",
     "text": [
      " - - - START MAIN CODE - - -\n",
      "MAIN FSM -> computer vision\n",
      "MAIN FSM -> path planning\n",
      "We found the following best path with a value of 12.727922061357855.\n",
      "(1, 2) -> (3, 4) -> (10, 11)\n",
      "MAIN FSM -> path following\n",
      "MAIN FSM -> terminated\n",
      " - - -    FINISHED     - - - \n"
     ]
    }
   ],
   "source": [
    "last_time = time.time()\n",
    "\n",
    "\n",
    "state = 1\n",
    "'''\n",
    "     States of the global FSM (finite state machine)\n",
    "     \n",
    "     1 -> computer vision and global path planning\n",
    "     2 -> path following\n",
    "     3 -> obstacle avoidance\n",
    "     4 -> target reached\n",
    "'''\n",
    "print(\" - - - START MAIN CODE - - -\")\n",
    "#filtering\n",
    "\n",
    "while True:\n",
    "    # we have to estimate our pose regardless of our state\n",
    "    # ToDo vision_position = vision.get_position()\n",
    "    # ToDo motion data\n",
    "    # ToDo pose_estimation = filtering (vision_position,data)\n",
    "    # \n",
    "    pose_estimation = (10,15,0.23) # tuple (x,y,theta)\n",
    "    \n",
    "    \n",
    "    if state == 1:\n",
    "        print(\"MAIN FSM -> computer vision\")\n",
    "        # ToDo get nodes and edges from computer vision module\n",
    "        \n",
    "        nodes = [(1,2),(3,4),(5,6),(10,11)]\n",
    "\n",
    "        global_nav = Global_Navigation(nodes)\n",
    "\n",
    "        global_nav.add_edge((1,2),(3,4))\n",
    "        global_nav.add_edge((1,2),(5,6))\n",
    "        global_nav.add_edge((3,4),(10,11))\n",
    "        global_nav.add_edge((10,11),(5,6))\n",
    "\n",
    "\n",
    "        start_node = (1,2)\n",
    "        target_node= (10,11)\n",
    "\n",
    "        \n",
    "        # next state -> path planning\n",
    "        state = 2\n",
    "        \n",
    "    elif state == 2:\n",
    "        print(\"MAIN FSM -> path planning\")\n",
    "        path = global_nav.path_planning(start_node,target_node)\n",
    "        local_nav = Local_Navigation(path) \n",
    "\n",
    "        # next state -> path following\n",
    "        state = 3\n",
    "    elif state == 3:\n",
    "        print(\"MAIN FSM -> path following\")\n",
    "        \n",
    "        \n",
    "        #if obstacle_present():\n",
    "        #    state = 4\n",
    "        #    continue\n",
    "        state = 5\n",
    "        \n",
    "    elif state == 4:\n",
    "        print(\"MAIN FSM -> obstacle avoidance\")\n",
    "        \n",
    "        #if not obstacle_present():\n",
    "        #    state = 3\n",
    "        #    continue\n",
    "        \n",
    "        \n",
    "        \n",
    "    elif state == 5:\n",
    "        print(\"MAIN FSM -> terminated\")\n",
    "        break\n",
    "    \n",
    "    # wait DT time - DT includes calculation time\n",
    "    while True:\n",
    "        \n",
    "        act_time = time.time()\n",
    "        if act_time - last_time >= DT:\n",
    "            last_time = act_time\n",
    "            break\n",
    "            \n",
    "\n",
    "print(\" - - -    FINISHED     - - - \")\n"
   ]
  },
  {
   "cell_type": "code",
   "execution_count": null,
   "id": "c18a8c56",
   "metadata": {},
   "outputs": [],
   "source": []
  },
  {
   "cell_type": "code",
   "execution_count": null,
   "id": "a71723df",
   "metadata": {},
   "outputs": [],
   "source": []
  }
 ],
 "metadata": {
  "kernelspec": {
   "display_name": "Python 3 (ipykernel)",
   "language": "python",
   "name": "python3"
  },
  "language_info": {
   "codemirror_mode": {
    "name": "ipython",
    "version": 3
   },
   "file_extension": ".py",
   "mimetype": "text/x-python",
   "name": "python",
   "nbconvert_exporter": "python",
   "pygments_lexer": "ipython3",
   "version": "3.11.2"
  }
 },
 "nbformat": 4,
 "nbformat_minor": 5
}
